{
  "cells": [
    {
      "cell_type": "code",
      "source": [
        "!pip install ns3"
      ],
      "metadata": {
        "colab": {
          "base_uri": "https://localhost:8080/"
        },
        "id": "HKQD80_giH8k",
        "outputId": "485b5a01-2ba3-4110-c251-d43381ee0f75"
      },
      "execution_count": null,
      "outputs": [
        {
          "output_type": "stream",
          "name": "stdout",
          "text": [
            "Collecting ns3\n",
            "  Downloading ns3-3.40-cp310-cp310-manylinux_2_28_x86_64.whl (67.9 MB)\n",
            "\u001b[2K     \u001b[90m━━━━━━━━━━━━━━━━━━━━━━━━━━━━━━━━━━━━━━━━\u001b[0m \u001b[32m67.9/67.9 MB\u001b[0m \u001b[31m8.8 MB/s\u001b[0m eta \u001b[36m0:00:00\u001b[0m\n",
            "\u001b[?25hCollecting cppyy==2.4.2 (from ns3)\n",
            "  Downloading cppyy-2.4.2.tar.gz (26 kB)\n",
            "  Installing build dependencies ... \u001b[?25l\u001b[?25hdone\n",
            "  Getting requirements to build wheel ... \u001b[?25l\u001b[?25hdone\n",
            "  Installing backend dependencies ... \u001b[?25l\u001b[?25hdone\n",
            "  Preparing metadata (pyproject.toml) ... \u001b[?25l\u001b[?25hdone\n",
            "Collecting CPyCppyy==1.12.12 (from cppyy==2.4.2->ns3)\n",
            "  Downloading CPyCppyy-1.12.12.tar.gz (206 kB)\n",
            "\u001b[2K     \u001b[90m━━━━━━━━━━━━━━━━━━━━━━━━━━━━━━━━━━━━━━━━\u001b[0m \u001b[32m206.6/206.6 kB\u001b[0m \u001b[31m16.1 MB/s\u001b[0m eta \u001b[36m0:00:00\u001b[0m\n",
            "\u001b[?25h  Installing build dependencies ... \u001b[?25l\u001b[?25hdone\n",
            "  Getting requirements to build wheel ... \u001b[?25l\u001b[?25hdone\n",
            "  Preparing metadata (pyproject.toml) ... \u001b[?25l\u001b[?25hdone\n",
            "Collecting cppyy-backend==1.14.10 (from cppyy==2.4.2->ns3)\n",
            "  Using cached cppyy_backend-1.14.10-py2.py3-none-linux_x86_64.whl\n",
            "Collecting cppyy-cling==6.27.1 (from cppyy==2.4.2->ns3)\n",
            "  Using cached cppyy_cling-6.27.1-py2.py3-none-manylinux2014_x86_64.whl (32.4 MB)\n",
            "Building wheels for collected packages: cppyy, CPyCppyy\n",
            "  Building wheel for cppyy (pyproject.toml) ... \u001b[?25l\u001b[?25hdone\n",
            "  Created wheel for cppyy: filename=cppyy-2.4.2-py3-none-any.whl size=15352129 sha256=80e1f150e5885062a30ac708c599718ccc84d5304661c01a6cc0baf8a4731267\n",
            "  Stored in directory: /root/.cache/pip/wheels/73/66/49/38da85078450bb1a5b63405aec0935de2e2991717394ac2f64\n",
            "  Building wheel for CPyCppyy (pyproject.toml) ... \u001b[?25l\u001b[?25hdone\n",
            "  Created wheel for CPyCppyy: filename=CPyCppyy-1.12.12-cp310-cp310-linux_x86_64.whl size=4182313 sha256=abd3e2d5b2e36c5778d33334dfc312920ceada062f67beb558220952cdc41b64\n",
            "  Stored in directory: /root/.cache/pip/wheels/5d/7a/78/ca93def377eef72601bc832691be3fca85d43b4bbedd23c91a\n",
            "Successfully built cppyy CPyCppyy\n",
            "Installing collected packages: cppyy-cling, cppyy-backend, CPyCppyy, cppyy, ns3\n",
            "Successfully installed CPyCppyy-1.12.12 cppyy-2.4.2 cppyy-backend-1.14.10 cppyy-cling-6.27.1 ns3-3.40\n"
          ]
        }
      ]
    },
    {
      "cell_type": "code",
      "source": [
        "from ns import ns\n"
      ],
      "metadata": {
        "id": "5LWVsEX3jgzv"
      },
      "execution_count": null,
      "outputs": []
    },
    {
      "cell_type": "code",
      "execution_count": null,
      "metadata": {
        "id": "LMirrevPiDiQ"
      },
      "outputs": [],
      "source": [
        "# Create two nodes\n",
        "\n",
        "# NodeContainer p2pNodes;\n",
        "# p2pNodes.Create (2);\n",
        "csmaNodes = ns.network.NodeContainer()\n",
        "csmaNodes.Create(2)\n",
        "\n",
        "# Create a CSMA helper to install the network interfaces and connect them via a physical link\n",
        "\n",
        "# CsmaHelper csma;\n",
        "# csma.SetChannelAttribute (\"DataRate\", StringValue (\"100Mbps\"));\n",
        "# csma.SetChannelAttribute (\"Delay\", TimeValue (NanoSeconds (6560)));\n",
        "csma = ns.csma.CsmaHelper()\n",
        "csma.SetChannelAttribute(\"DataRate\", ns.core.StringValue(\"100Mbps\"))\n",
        "csma.SetChannelAttribute(\"Delay\", ns.core.TimeValue(ns.core.NanoSeconds(6560)))\n",
        "\n",
        "# Install the network interfaces and connect them via a physical link\n",
        "\n",
        "# NetDeviceContainer csmaDevices;\n",
        "# csmaDevices = csma.Install (csmaNodes);\n",
        "csmaDevices = csma.Install(csmaNodes)\n",
        "\n",
        "# Instal the TCP/IP network stack\n",
        "\n",
        "# InternetStackHelper stack;\n",
        "\n",
        "  #  80   stack.Install (p2pNodes.Get (0));\n",
        "  #  81   stack.Install (csmaNodes);\n",
        "stack = ns.internet.InternetStackHelper()\n",
        "stack.Install(csmaNodes)\n",
        "\n",
        "# Create address then assign it to device\n",
        "  #  83   Ipv4AddressHelper address;\n",
        "  #  84   address.SetBase (\"10.1.1.0\", \"255.255.255.0\");\n",
        "  #  85   Ipv4InterfaceContainer p2pInterfaces;\n",
        "  #  86   p2pInterfaces = address.Assign (p2pDevices);\n",
        "  #  87\n",
        "  #  88   address.SetBase (\"10.1.2.0\", \"255.255.255.0\");\n",
        "  #  89   Ipv4InterfaceContainer csmaInterfaces;\n",
        "  #  90   csmaInterfaces = address.Assign (csmaDevices);\n",
        "\n",
        "# Create an address pool for the network nodes\n",
        "address = ns.internet.Ipv4AddressHelper()\n",
        "address.SetBase(ns.network.Ipv4Address(\"10.1.2.0\"), ns.network.Ipv4Mask(\"255.255.255.0\"))\n",
        "# Assign Ipv4 addresses to the network devices\n",
        "csmaInterfaces = address.Assign(csmaDevices)\n",
        "\n",
        "# Populate routing tables so that packages get properly routed\n",
        "ns.internet.Ipv4GlobalRoutingHelper.PopulateRoutingTables()"
      ]
    },
    {
      "cell_type": "code",
      "source": [
        "# Create, install and set the time the server application will run on the node 0\n",
        "echoServer = ns.applications.UdpEchoServerHelper(9)\n",
        "serverApps = echoServer.Install(csmaNodes.Get(0))\n",
        "serverApps.Start(ns.core.Seconds(1.0))\n",
        "serverApps.Stop(ns.core.Seconds(10.0))\n",
        "\n",
        "# Create, configure, install and set the time the client application will run on the node 1\n",
        "echoClient = ns.applications.UdpEchoClientHelper(csmaInterfaces.GetAddress(0).ConvertTo(), 9)\n",
        "echoClient.SetAttribute(\"MaxPackets\", ns.core.UintegerValue(10))\n",
        "echoClient.SetAttribute(\"Interval\", ns.core.TimeValue(ns.core.Seconds (1.0)))\n",
        "echoClient.SetAttribute(\"PacketSize\", ns.core.UintegerValue(1024))\n",
        "clientApps = echoClient.Install(csmaNodes.Get(1))\n",
        "clientApps.Start(ns.core.Seconds(2.0))\n",
        "clientApps.Stop(ns.core.Seconds(10.0))"
      ],
      "metadata": {
        "id": "FHy8mSFONhql"
      },
      "execution_count": null,
      "outputs": []
    },
    {
      "cell_type": "code",
      "source": [
        "# Cppyy bindings are not perfect and we need to create the callback via a Python-to-C++ wrapper\n",
        "ns.cppyy.cppdef(\"\"\"\n",
        "    namespace ns3{\n",
        "        const Callback<void,Ptr<const Packet>,const Address&,const Address&>\n",
        "        make_sinktrace_callback(void(*func)(Ptr<const Packet>,const Address&,const Address&))\n",
        "        {\n",
        "            return MakeCallback(func);\n",
        "        }\n",
        "    }\n",
        "\"\"\")\n",
        "\n",
        "# We define our callback that will receive a packet smart-pointer and two addresses\n",
        "def SinkTracer(packet: ns.Packet, src_address: ns.Address, dst_address: ns.Address) -> None:\n",
        "    print(f\"At {ns.Simulator.Now().GetSeconds():.0f}s, '{dst_address}' received packet\"\n",
        "          f\" with {packet.__deref__().GetSerializedSize()} bytes from '{src_address}'\")\n",
        "\n",
        "# Create the callback calling the SinkTracer function defined above\n",
        "sinkTraceCallback = ns.make_sinktrace_callback(SinkTracer)\n",
        "\n",
        "# Register the callback to be called when the trace RxWithAddresses from UdpEchoServerHelper is executed\n",
        "serverApps.Get(0).__deref__().TraceConnectWithoutContext(\"RxWithAddresses\", sinkTraceCallback)\n",
        "\n",
        "# Set the simulation duration to 11 seconds\n",
        "ns.Simulator.Stop(ns.Seconds(11))\n",
        "\n",
        "# Run the simulator\n",
        "ns.Simulator.Run()\n",
        "ns.Simulator.Destroy()"
      ],
      "metadata": {
        "id": "VjPnOJV-NjoM",
        "colab": {
          "base_uri": "https://localhost:8080/"
        },
        "outputId": "70c381e0-b191-4a16-9541-5283a4be34ae"
      },
      "execution_count": null,
      "outputs": [
        {
          "output_type": "stream",
          "name": "stdout",
          "text": [
            "At 2s, '04-07-00:00:00:00:09:00:00' received packet with 60 bytes from '04-07-0a:01:02:02:01:c0:00'\n",
            "At 3s, '04-07-00:00:00:00:09:00:00' received packet with 60 bytes from '04-07-0a:01:02:02:01:c0:00'\n",
            "At 4s, '04-07-00:00:00:00:09:00:00' received packet with 60 bytes from '04-07-0a:01:02:02:01:c0:00'\n",
            "At 5s, '04-07-00:00:00:00:09:00:00' received packet with 60 bytes from '04-07-0a:01:02:02:01:c0:00'\n",
            "At 6s, '04-07-00:00:00:00:09:00:00' received packet with 60 bytes from '04-07-0a:01:02:02:01:c0:00'\n",
            "At 7s, '04-07-00:00:00:00:09:00:00' received packet with 60 bytes from '04-07-0a:01:02:02:01:c0:00'\n",
            "At 8s, '04-07-00:00:00:00:09:00:00' received packet with 60 bytes from '04-07-0a:01:02:02:01:c0:00'\n",
            "At 9s, '04-07-00:00:00:00:09:00:00' received packet with 60 bytes from '04-07-0a:01:02:02:01:c0:00'\n"
          ]
        }
      ]
    }
  ],
  "metadata": {
    "language_info": {
      "name": "python"
    },
    "orig_nbformat": 4,
    "colab": {
      "provenance": []
    },
    "kernelspec": {
      "name": "python3",
      "display_name": "Python 3"
    }
  },
  "nbformat": 4,
  "nbformat_minor": 0
}