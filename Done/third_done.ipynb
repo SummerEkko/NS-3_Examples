{
  "nbformat": 4,
  "nbformat_minor": 0,
  "metadata": {
    "colab": {
      "provenance": []
    },
    "kernelspec": {
      "name": "python3",
      "display_name": "Python 3"
    },
    "language_info": {
      "name": "python"
    }
  },
  "cells": [
    {
      "cell_type": "code",
      "execution_count": null,
      "metadata": {
        "colab": {
          "base_uri": "https://localhost:8080/"
        },
        "id": "54ztyWofbHXP",
        "outputId": "e05ed003-9470-4c5b-db0f-57e86b6c47e2"
      },
      "outputs": [
        {
          "output_type": "stream",
          "name": "stdout",
          "text": [
            "Collecting ns3\n",
            "  Downloading ns3-3.40-cp310-cp310-manylinux_2_28_x86_64.whl (67.9 MB)\n",
            "\u001b[2K     \u001b[90m━━━━━━━━━━━━━━━━━━━━━━━━━━━━━━━━━━━━━━━━\u001b[0m \u001b[32m67.9/67.9 MB\u001b[0m \u001b[31m4.4 MB/s\u001b[0m eta \u001b[36m0:00:00\u001b[0m\n",
            "\u001b[?25hCollecting cppyy==2.4.2 (from ns3)\n",
            "  Downloading cppyy-2.4.2.tar.gz (26 kB)\n",
            "  Installing build dependencies ... \u001b[?25l\u001b[?25hdone\n",
            "  Getting requirements to build wheel ... \u001b[?25l\u001b[?25hdone\n",
            "  Installing backend dependencies ... \u001b[?25l\u001b[?25hdone\n",
            "  Preparing metadata (pyproject.toml) ... \u001b[?25l\u001b[?25hdone\n",
            "Collecting CPyCppyy==1.12.12 (from cppyy==2.4.2->ns3)\n",
            "  Downloading CPyCppyy-1.12.12.tar.gz (206 kB)\n",
            "\u001b[2K     \u001b[90m━━━━━━━━━━━━━━━━━━━━━━━━━━━━━━━━━━━━━━━━\u001b[0m \u001b[32m206.6/206.6 kB\u001b[0m \u001b[31m16.7 MB/s\u001b[0m eta \u001b[36m0:00:00\u001b[0m\n",
            "\u001b[?25h  Installing build dependencies ... \u001b[?25l\u001b[?25hdone\n",
            "  Getting requirements to build wheel ... \u001b[?25l\u001b[?25hdone\n",
            "  Preparing metadata (pyproject.toml) ... \u001b[?25l\u001b[?25hdone\n",
            "Collecting cppyy-backend==1.14.10 (from cppyy==2.4.2->ns3)\n",
            "  Using cached cppyy_backend-1.14.10-py2.py3-none-linux_x86_64.whl\n",
            "Collecting cppyy-cling==6.27.1 (from cppyy==2.4.2->ns3)\n",
            "  Using cached cppyy_cling-6.27.1-py2.py3-none-manylinux2014_x86_64.whl (32.4 MB)\n",
            "Building wheels for collected packages: cppyy, CPyCppyy\n",
            "  Building wheel for cppyy (pyproject.toml) ... \u001b[?25l\u001b[?25hdone\n",
            "  Created wheel for cppyy: filename=cppyy-2.4.2-py3-none-any.whl size=15352140 sha256=91a52a0a6448b9ede660424c16f07312e6685f2f6d3b2ed316352e52f9c6af8e\n",
            "  Stored in directory: /root/.cache/pip/wheels/73/66/49/38da85078450bb1a5b63405aec0935de2e2991717394ac2f64\n",
            "  Building wheel for CPyCppyy (pyproject.toml) ... \u001b[?25l\u001b[?25hdone\n",
            "  Created wheel for CPyCppyy: filename=CPyCppyy-1.12.12-cp310-cp310-linux_x86_64.whl size=4182312 sha256=66637c19b0703709c3a1ae2ab53fe7178d2587710ce1412f9cec93dab251610a\n",
            "  Stored in directory: /root/.cache/pip/wheels/5d/7a/78/ca93def377eef72601bc832691be3fca85d43b4bbedd23c91a\n",
            "Successfully built cppyy CPyCppyy\n",
            "Installing collected packages: cppyy-cling, cppyy-backend, CPyCppyy, cppyy, ns3\n",
            "Successfully installed CPyCppyy-1.12.12 cppyy-2.4.2 cppyy-backend-1.14.10 cppyy-cling-6.27.1 ns3-3.40\n"
          ]
        }
      ],
      "source": [
        "!pip install ns3"
      ]
    },
    {
      "cell_type": "code",
      "source": [
        "from ns import ns\n",
        "from matplotlib import pyplot as plt"
      ],
      "metadata": {
        "id": "PEjZLuMVbI-e"
      },
      "execution_count": null,
      "outputs": []
    },
    {
      "cell_type": "code",
      "source": [
        "\n",
        "# Get the coordinates for each node in the NodeContainer and plot\n",
        "def plotNodePosition(nodeContainer : ns.NodeContainer, showLegend: bool = True) -> None:\n",
        "    for node_i in range(nodeContainer.GetN()):\n",
        "        node = nodeContainer.Get(node_i).__deref__()\n",
        "        mobility = node.GetObject[ns.MobilityModel]().__deref__()\n",
        "        position = mobility.GetPosition()\n",
        "        plt.scatter((position.x), (position.y), label=f\"Node {node.GetId()}\")\n",
        "    plt.ylabel(\"Y (m)\")\n",
        "    plt.xlabel(\"X (m)\")\n",
        "    if showLegend:\n",
        "        plt.legend()\n",
        "    plt.show()"
      ],
      "metadata": {
        "id": "TFMTKyDwvjMY"
      },
      "execution_count": null,
      "outputs": []
    },
    {
      "cell_type": "code",
      "source": [
        "# // Default Network Topology\n",
        "# //\n",
        "# //   Wifi 10.1.3.0\n",
        "# //                 AP\n",
        "# //  *    *    *    *\n",
        "# //  |    |    |    |    10.1.1.0\n",
        "# // n5   n6   n7   n0 -------------- n1   n2   n3   n4\n",
        "# //                   point-to-point  |    |    |    |\n",
        "# //                                   ================\n",
        "# //                                     LAN 10.1.2.0\n",
        "\n",
        "nCsma = 3\n",
        "verbose = True\n",
        "nWifi = 3\n",
        "tracing = False\n",
        "\n",
        "p2pNodes = ns.network.NodeContainer()\n",
        "p2pNodes.Create(2)\n",
        "\n",
        "pointToPoint = ns.point_to_point.PointToPointHelper()\n",
        "pointToPoint.SetDeviceAttribute(\"DataRate\", ns.core.StringValue(\"5Mbps\"))\n",
        "pointToPoint.SetChannelAttribute(\"Delay\", ns.core.StringValue(\"2ms\"))\n",
        "\n",
        "p2pDevices = pointToPoint.Install(p2pNodes)\n",
        "\n",
        "csmaNodes = ns.network.NodeContainer()\n",
        "csmaNodes.Add(p2pNodes.Get(1))\n",
        "csmaNodes.Create(nCsma)\n",
        "\n",
        "csma = ns.csma.CsmaHelper()\n",
        "csma.SetChannelAttribute(\"DataRate\", ns.core.StringValue(\"100Mbps\"))\n",
        "csma.SetChannelAttribute(\"Delay\", ns.core.TimeValue(ns.core.NanoSeconds(6560)))\n",
        "\n",
        "csmaDevices = csma.Install(csmaNodes)\n",
        "\n",
        "wifiStaNodes = ns.network.NodeContainer()\n",
        "wifiStaNodes.Create(nWifi)\n",
        "wifiApNode = p2pNodes.Get(0)\n",
        "\n",
        "channel = ns.wifi.YansWifiChannelHelper.Default()\n",
        "phy = ns.wifi.YansWifiPhyHelper()\n",
        "phy.SetChannel(channel.Create())\n",
        "\n",
        "mac = ns.wifi.WifiMacHelper()\n",
        "ssid = ns.wifi.Ssid (\"ns-3-ssid\")\n",
        "\n",
        "wifi = ns.wifi.WifiHelper()\n",
        "\n",
        "mac.SetType (\"ns3::StaWifiMac\", \"Ssid\", ns.wifi.SsidValue(ssid), \"ActiveProbing\", ns.core.BooleanValue(False))\n",
        "staDevices = wifi.Install(phy, mac, wifiStaNodes)\n",
        "\n",
        "mac.SetType(\"ns3::ApWifiMac\",\"Ssid\", ns.wifi.SsidValue (ssid))\n",
        "apDevices = wifi.Install(phy, mac, wifiApNode)\n",
        "\n",
        "mobility = ns.mobility.MobilityHelper()\n",
        "mobility.SetPositionAllocator (\"ns3::GridPositionAllocator\", \"MinX\", ns.core.DoubleValue(0.0),\n",
        "\t\t\t\t\t\t\t\t\"MinY\", ns.core.DoubleValue (0.0), \"DeltaX\", ns.core.DoubleValue(5.0), \"DeltaY\", ns.core.DoubleValue(10.0),\n",
        "                                 \"GridWidth\", ns.core.UintegerValue(3), \"LayoutType\", ns.core.StringValue(\"RowFirst\"))\n",
        "\n",
        "mobility.SetMobilityModel (\"ns3::RandomWalk2dMobilityModel\", \"Bounds\", ns.mobility.RectangleValue(ns.mobility.Rectangle (-50, 50, -50, 50)))\n",
        "mobility.Install(wifiStaNodes)\n",
        "\n",
        "mobility.SetMobilityModel(\"ns3::ConstantPositionMobilityModel\")\n",
        "mobility.Install(wifiApNode)\n",
        "\n",
        "plotNodePosition(wifiStaNodes)\n",
        "\n",
        "stack = ns.internet.InternetStackHelper()\n",
        "stack.Install(csmaNodes)\n",
        "stack.Install(wifiApNode)\n",
        "stack.Install(wifiStaNodes)\n",
        "\n",
        "address = ns.internet.Ipv4AddressHelper()\n",
        "address.SetBase(ns.network.Ipv4Address(\"10.1.1.0\"), ns.network.Ipv4Mask(\"255.255.255.0\"))\n",
        "p2pInterfaces = address.Assign(p2pDevices)\n",
        "\n",
        "address.SetBase(ns.network.Ipv4Address(\"10.1.2.0\"), ns.network.Ipv4Mask(\"255.255.255.0\"))\n",
        "csmaInterfaces = address.Assign(csmaDevices)\n",
        "\n",
        "address.SetBase(ns.network.Ipv4Address(\"10.1.3.0\"), ns.network.Ipv4Mask(\"255.255.255.0\"))\n",
        "address.Assign(staDevices)\n",
        "address.Assign(apDevices)\n",
        "\n",
        "echoServer = ns.applications.UdpEchoServerHelper(9)\n",
        "\n",
        "serverApps = echoServer.Install(csmaNodes.Get(nCsma))\n",
        "serverApps.Start(ns.core.Seconds(1.0))\n",
        "serverApps.Stop(ns.core.Seconds(10.0))\n",
        "\n",
        "echoClient = ns.applications.UdpEchoClientHelper(csmaInterfaces.GetAddress(nCsma).ConvertTo(), 9)\n",
        "echoClient.SetAttribute(\"MaxPackets\", ns.core.UintegerValue(1))\n",
        "echoClient.SetAttribute(\"Interval\", ns.core.TimeValue(ns.core.Seconds (1.0)))\n",
        "echoClient.SetAttribute(\"PacketSize\", ns.core.UintegerValue(1024))\n",
        "\n",
        "clientApps = echoClient.Install(wifiStaNodes.Get (nWifi - 1))\n",
        "clientApps.Start(ns.core.Seconds(2.0))\n",
        "clientApps.Stop(ns.core.Seconds(10.0))\n",
        "\n",
        "ns.internet.Ipv4GlobalRoutingHelper.PopulateRoutingTables()\n",
        "\n",
        "ns.core.Simulator.Stop(ns.core.Seconds(10.0))\n",
        "\n",
        "pointToPoint.EnablePcapAll (\"third\")\n",
        "phy.EnablePcap (\"third\", apDevices.Get (0))\n",
        "csma.EnablePcap (\"third\", csmaDevices.Get (0), True)\n",
        "\n",
        "ns.core.Simulator.Run()\n",
        "ns.core.Simulator.Destroy()\n"
      ],
      "metadata": {
        "id": "hLc6R4K0bLUJ"
      },
      "execution_count": null,
      "outputs": []
    }
  ]
}