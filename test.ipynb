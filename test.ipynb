{
 "cells": [
  {
   "cell_type": "markdown",
   "metadata": {},
   "source": [
    "# Network topologies and mobility in the ns-3 simulator\n",
    "\n",
    "Let's start by importing the ns-3 bindings."
   ]
  },
  {
   "cell_type": "code",
   "execution_count": 1,
   "metadata": {
    "ExecuteTime": {
     "end_time": "2023-06-28T17:18:07.214535500Z",
     "start_time": "2023-06-28T17:17:47.403381300Z"
    },
    "pycharm": {
     "is_executing": true
    }
   },
   "outputs": [
    {
     "name": "stderr",
     "output_type": "stream",
     "text": [
      "/bin/bash: warning: setlocale: LC_ALL: cannot change locale (en_US.UTF-8)\n"
     ]
    }
   ],
   "source": [
    "#!pip install ns3\n",
    "from ns import ns"
   ]
  },
  {
   "cell_type": "code",
   "execution_count": null,
   "metadata": {},
   "outputs": [],
   "source": [
    "# RandomBoxPositionAllocator + ConstantVelocityMobilityModel\n",
    "def animateConstantVelocityNodesInRanBoxTopology():\n",
    "    ns.Simulator.Destroy()\n",
    "\n",
    "    # Create a topology with 10 nodes\n",
    "    nodes = ns.NodeContainer()\n",
    "    nodes.Create(10)\n",
    "\n",
    "    # Some allocators allows us to specify a few parameters,\n",
    "    # that are used along random variables to determine the position for each node\n",
    "    randomBoxPositions = ns.CreateObject(\"RandomBoxPositionAllocator\")\n",
    "    randomBoxPositions.SetAttribute(\"X\", ns.StringValue(\"ns3::UniformRandomVariable[Min=0.0|Max=100.0]\"));\n",
    "    randomBoxPositions.SetAttribute(\"Y\", ns.StringValue(\"ns3::UniformRandomVariable[Min=0.0|Max=100.0]\"));\n",
    "    randomBoxPositions.SetAttribute(\"Z\", ns.StringValue(\"ns3::UniformRandomVariable[Min=0.0|Max=1.0]\"));\n",
    "\n",
    "    mobilityHelper = ns.MobilityHelper()\n",
    "    mobilityHelper.SetMobilityModel (\"ns3::ConstantVelocityMobilityModel\")\n",
    "    mobilityHelper.SetPositionAllocator (randomBoxPositions)\n",
    "    mobilityHelper.Install (nodes)  \n",
    "\n",
    "    # Set node velocities\n",
    "    for line in range(2):\n",
    "        for column in range(5):\n",
    "            node = nodes.Get(line*5+column).__deref__()\n",
    "            mobility = node.GetObject[ns.MobilityModel]().__deref__()\n",
    "            mobility.SetVelocity(ns.Vector(0, 1 if line == 0 else -1, 0));\n",
    "    \n",
    "\n",
    "    # Schedule getNodeCoordinates to run after 1 second of simulation\n",
    "    event = ns.pythonMakeEvent(getNodeCoordinates, nodes)\n",
    "    ns.Simulator.Schedule(ns.Seconds(1), event)\n",
    "\n",
    "    # Run simulation for 100 virtual seconds\n",
    "    ns.Simulator.Stop(ns.Seconds(100))\n",
    "    ns.Simulator.Run()\n",
    "    \n",
    "    animateSimulation()\n",
    "\n",
    "animateConstantVelocityNodesInRanBoxTopology()"
   ]
  }
 ],
 "metadata": {
  "kernelspec": {
   "display_name": "Python 3 (ipykernel)",
   "language": "python",
   "name": "python3"
  },
  "language_info": {
   "codemirror_mode": {
    "name": "ipython",
    "version": 3
   },
   "file_extension": ".py",
   "mimetype": "text/x-python",
   "name": "python",
   "nbconvert_exporter": "python",
   "pygments_lexer": "ipython3",
   "version": "3.10.6"
  }
 },
 "nbformat": 4,
 "nbformat_minor": 1
}
